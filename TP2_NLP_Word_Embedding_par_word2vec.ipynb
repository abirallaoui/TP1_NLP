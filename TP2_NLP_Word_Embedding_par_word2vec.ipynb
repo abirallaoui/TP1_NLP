{
 "cells": [
  {
   "cell_type": "code",
   "execution_count": 1,
   "id": "c94d4069",
   "metadata": {},
   "outputs": [],
   "source": [
    "with open('text', 'r') as txt:\n",
    "    contenu = txt.read()\n",
    "    "
   ]
  },
  {
   "cell_type": "code",
   "execution_count": 2,
   "id": "63558447",
   "metadata": {},
   "outputs": [
    {
     "data": {
      "text/plain": [
       "'**Morocco and Marrakech: A Tapestry of Tradition and Modernity** Morocco, located at the crossroads of Europe and Africa, is a country drenched in history, mystery, and cultural richness. A testament to the ancient civilizations that once flourished here, this North African kingdom boasts a unique blend of Arab, Berber, and European influences. At the heart of Morocco\\'s rich tapestry lies Marrakech, one of its four imperial cities and a vibrant epicenter of tradition and modernity. **Geographical Significance** Morocco is bordered by the Atlantic Ocean to the west, the Mediterranean Sea to the north, Algeria to the east and southeast, and the vast Sahara desert to the south. Its strategic location has historically made it a sought-after territory and a melting pot of cultures, religions, and trade routes. **Marrakech: The Red City** Marrakech, often referred to as \"The Red City\" due to its distinctive red-hued buildings, stands against the backdrop of the snow-capped Atlas Mountains. Established in the 11th century, it has remained a crucial political, economic, and cultural center of Morocco. **Journey through the Medina** Marrakech\\'s old town, the Medina, is a UNESCO World Heritage site and a labyrinthine maze of narrow alleys, bustling souks, and historical landmarks. The Djemaa el-Fna Square lies at the heart of the Medina and comes alive every evening with storytellers, musicians, snake charmers, and food stalls offering tantalizing Moroccan delicacies. **Palaces and Gardens** The city is also home to grand palaces like the Bahia Palace, showcasing intricate Islamic architecture, and the Saadian Tombs, remnants of the Saadian dynasty. The Majorelle Garden, restored by the fashion designer Yves Saint Laurent, is a tranquil oasis of cacti, palm trees, and cobalt blue accents. **Modern Marrakech** While tradition and history permeate Marrakech, the city is not averse to the modern world. Gueliz, the new town, is brimming with contemporary art galleries, stylish cafes, and chic boutiques, offering a stark contrast to the ancient Medina. **Moroccan Cuisine** No journey through Morocco and Marrakech would be complete without indulging in the local cuisine. Tagines, couscous, and pastilla are just a few of the many dishes that combine a plethora of flavors and spices like saffron, cumin, and mint. Paired with Moroccan mint tea, the culinary experience is truly unparalleled. **In Conclusion** Morocco, with Marrakech at its heart, offers travelers an unparalleled journey through time. The convergence of history, culture, architecture, and gastronomy makes it an enthralling destination for those seeking both adventure and reflection. As the Moroccan proverb goes, \"He who does not travel does not know the value of men.\" In the case of Morocco and Marrakech, it\\'s not just the value of men, but also the value of time, tradition, and tales that have spanned centuries.'"
      ]
     },
     "execution_count": 2,
     "metadata": {},
     "output_type": "execute_result"
    }
   ],
   "source": [
    "contenu"
   ]
  },
  {
   "cell_type": "markdown",
   "id": "4cda5a01",
   "metadata": {},
   "source": [
    "# Text Preprocessing"
   ]
  },
  {
   "cell_type": "markdown",
   "id": "820e571c",
   "metadata": {},
   "source": [
    "### Lower casing"
   ]
  },
  {
   "cell_type": "code",
   "execution_count": 3,
   "id": "7a3b930a",
   "metadata": {},
   "outputs": [],
   "source": [
    "text_nettoyé=contenu.lower()"
   ]
  },
  {
   "cell_type": "markdown",
   "id": "d64ad88a",
   "metadata": {},
   "source": [
    "### Removal of Punctuations"
   ]
  },
  {
   "cell_type": "code",
   "execution_count": 11,
   "id": "59e287a2",
   "metadata": {},
   "outputs": [],
   "source": [
    "import string\n",
    "\n",
    "PUNCT_TO_REMOVE = string.punctuation\n",
    "def remove_punctuation(text):\n",
    "    return text.translate(str.maketrans('', '', PUNCT_TO_REMOVE))\n",
    "\n",
    "text_nettoyé = remove_punctuation(text_nettoyé)\n",
    "\n",
    "\n"
   ]
  },
  {
   "cell_type": "code",
   "execution_count": 12,
   "id": "897036e9",
   "metadata": {},
   "outputs": [
    {
     "data": {
      "text/plain": [
       "'morocco marrakech tapestry tradition modernity morocco located crossroads europe africa country drenched history mystery cultural richness testament ancient civilizations flourished north african kingdom boasts unique blend arab berber european influences heart moroccos rich tapestry lies marrakech one four imperial cities vibrant epicenter tradition modernity geographical significance morocco bordered atlantic ocean west mediterranean sea north algeria east southeast vast sahara desert south strategic location historically made soughtafter territory melting pot cultures religions trade routes marrakech red city marrakech often referred red city due distinctive redhued buildings stands backdrop snowcapped atlas mountains established 11th century remained crucial political economic cultural center morocco journey medina marrakechs old town medina unesco world heritage site labyrinthine maze narrow alleys bustling souks historical landmarks djemaa elfna square lies heart medina comes alive every evening storytellers musicians snake charmers food stalls offering tantalizing moroccan delicacies palaces gardens city also home grand palaces like bahia palace showcasing intricate islamic architecture saadian tombs remnants saadian dynasty majorelle garden restored fashion designer yves saint laurent tranquil oasis cacti palm trees cobalt blue accents modern marrakech tradition history permeate marrakech city averse modern world gueliz new town brimming contemporary art galleries stylish cafes chic boutiques offering stark contrast ancient medina moroccan cuisine journey morocco marrakech would complete without indulging local cuisine tagines couscous pastilla many dishes combine plethora flavors spices like saffron cumin mint paired moroccan mint tea culinary experience truly unparalleled conclusion morocco marrakech heart offers travelers unparalleled journey time convergence history culture architecture gastronomy makes enthralling destination seeking adventure reflection moroccan proverb goes travel know value men case morocco marrakech value men also value time tradition tales spanned centuries'"
      ]
     },
     "execution_count": 12,
     "metadata": {},
     "output_type": "execute_result"
    }
   ],
   "source": [
    "text_nettoyé"
   ]
  },
  {
   "cell_type": "markdown",
   "id": "5006fa90",
   "metadata": {},
   "source": [
    "### Removal of Stopwords"
   ]
  },
  {
   "cell_type": "code",
   "execution_count": 13,
   "id": "79155451",
   "metadata": {},
   "outputs": [
    {
     "name": "stderr",
     "output_type": "stream",
     "text": [
      "[nltk_data] Downloading package stopwords to\n",
      "[nltk_data]     C:\\Users\\lenovo\\AppData\\Roaming\\nltk_data...\n",
      "[nltk_data]   Package stopwords is already up-to-date!\n"
     ]
    }
   ],
   "source": [
    "import nltk\n",
    "from nltk.corpus import stopwords\n",
    "nltk.download('stopwords')\n",
    "\n",
    "STOPWORDS = set(stopwords.words('english'))\n",
    "def remove_stopwords(text):\n",
    "    return \" \".join([word for word in str(text).split() if word not in STOPWORDS])\n"
   ]
  },
  {
   "cell_type": "code",
   "execution_count": 14,
   "id": "3831a68d",
   "metadata": {},
   "outputs": [],
   "source": [
    "text_nettoyé = remove_stopwords(text_nettoyé)\n"
   ]
  },
  {
   "cell_type": "markdown",
   "id": "21cb4a9e",
   "metadata": {},
   "source": [
    "### Removal of Frequent words"
   ]
  },
  {
   "cell_type": "code",
   "execution_count": 15,
   "id": "0b0154a0",
   "metadata": {},
   "outputs": [],
   "source": [
    "from collections import Counter\n",
    "cnt = Counter()\n",
    "FREQWORDS = set([w for (w, wc) in cnt.most_common(10)])\n",
    "def remove_freqwords(text):\n",
    "    return \" \".join([word for word in str(text).split() if word not in FREQWORDS])"
   ]
  },
  {
   "cell_type": "code",
   "execution_count": 16,
   "id": "02800879",
   "metadata": {},
   "outputs": [],
   "source": [
    "text_nettoyé = remove_freqwords(text_nettoyé)\n"
   ]
  },
  {
   "cell_type": "markdown",
   "id": "eaf926e0",
   "metadata": {},
   "source": [
    "### Removal of Rare words"
   ]
  },
  {
   "cell_type": "code",
   "execution_count": 17,
   "id": "af13f6da",
   "metadata": {},
   "outputs": [],
   "source": [
    "n_rare_words = 10\n",
    "RAREWORDS = set([w for (w, wc) in cnt.most_common()[:-n_rare_words-1:-1]])\n",
    "def remove_rarewords(text):\n",
    "    return \" \".join([word for word in str(text).split() if word not in RAREWORDS])"
   ]
  },
  {
   "cell_type": "code",
   "execution_count": 18,
   "id": "a7f71447",
   "metadata": {},
   "outputs": [],
   "source": [
    "text_nettoyé = remove_rarewords(text_nettoyé)\n"
   ]
  },
  {
   "cell_type": "markdown",
   "id": "c9a1b9fa",
   "metadata": {},
   "source": [
    "### Stemming"
   ]
  },
  {
   "cell_type": "code",
   "execution_count": 19,
   "id": "2fe8874a",
   "metadata": {},
   "outputs": [],
   "source": [
    "from nltk.stem.porter import PorterStemmer\n",
    "\n",
    "\n",
    "stemmer = PorterStemmer()\n",
    "def stem_words(text):\n",
    "    return \" \".join([stemmer.stem(word) for word in text.split()])"
   ]
  },
  {
   "cell_type": "code",
   "execution_count": 20,
   "id": "8eb1a81c",
   "metadata": {},
   "outputs": [],
   "source": [
    "text_nettoyé = stem_words(text_nettoyé)\n"
   ]
  },
  {
   "cell_type": "markdown",
   "id": "2dd9beb7",
   "metadata": {},
   "source": [
    "### Lemmatization"
   ]
  },
  {
   "cell_type": "code",
   "execution_count": 21,
   "id": "3b410313",
   "metadata": {},
   "outputs": [
    {
     "name": "stdout",
     "output_type": "stream",
     "text": [
      "Collecting en-core-web-sm==3.7.1\n",
      "  Downloading https://github.com/explosion/spacy-models/releases/download/en_core_web_sm-3.7.1/en_core_web_sm-3.7.1-py3-none-any.whl (12.8 MB)\n",
      "     ---------------------------------------- 0.0/12.8 MB ? eta -:--:--\n",
      "     ---------------------------------------- 0.0/12.8 MB ? eta -:--:--\n",
      "     ---------------------------------------- 0.0/12.8 MB ? eta -:--:--\n",
      "     --------------------------------------- 0.0/12.8 MB 187.9 kB/s eta 0:01:08\n",
      "     --------------------------------------- 0.0/12.8 MB 187.9 kB/s eta 0:01:08\n",
      "     --------------------------------------- 0.0/12.8 MB 196.9 kB/s eta 0:01:05\n",
      "     --------------------------------------- 0.1/12.8 MB 280.5 kB/s eta 0:00:46\n",
      "      -------------------------------------- 0.2/12.8 MB 618.3 kB/s eta 0:00:21\n",
      "      -------------------------------------- 0.3/12.8 MB 896.4 kB/s eta 0:00:14\n",
      "     - -------------------------------------- 0.4/12.8 MB 1.1 MB/s eta 0:00:11\n",
      "     - -------------------------------------- 0.5/12.8 MB 1.3 MB/s eta 0:00:10\n",
      "     -- ------------------------------------- 0.8/12.8 MB 1.8 MB/s eta 0:00:07\n",
      "     --- ------------------------------------ 1.2/12.8 MB 2.4 MB/s eta 0:00:05\n",
      "     ---- ----------------------------------- 1.6/12.8 MB 3.0 MB/s eta 0:00:04\n",
      "     ------ --------------------------------- 2.0/12.8 MB 3.6 MB/s eta 0:00:04\n",
      "     ------- -------------------------------- 2.4/12.8 MB 4.0 MB/s eta 0:00:03\n",
      "     --------- ------------------------------ 2.9/12.8 MB 4.6 MB/s eta 0:00:03\n",
      "     --------- ------------------------------ 3.2/12.8 MB 4.8 MB/s eta 0:00:02\n",
      "     --------- ------------------------------ 3.2/12.8 MB 4.8 MB/s eta 0:00:02\n",
      "     ---------- ----------------------------- 3.4/12.8 MB 4.5 MB/s eta 0:00:03\n",
      "     ----------- ---------------------------- 3.7/12.8 MB 4.6 MB/s eta 0:00:02\n",
      "     ------------- -------------------------- 4.3/12.8 MB 5.1 MB/s eta 0:00:02\n",
      "     --------------- ------------------------ 4.8/12.8 MB 5.6 MB/s eta 0:00:02\n",
      "     ----------------- ---------------------- 5.6/12.8 MB 6.0 MB/s eta 0:00:02\n",
      "     ------------------ --------------------- 5.9/12.8 MB 6.2 MB/s eta 0:00:02\n",
      "     -------------------- ------------------- 6.5/12.8 MB 6.5 MB/s eta 0:00:01\n",
      "     --------------------- ------------------ 7.0/12.8 MB 6.7 MB/s eta 0:00:01\n",
      "     ---------------------- ----------------- 7.3/12.8 MB 6.8 MB/s eta 0:00:01\n",
      "     ---------------------- ----------------- 7.3/12.8 MB 6.8 MB/s eta 0:00:01\n",
      "     ---------------------- ----------------- 7.3/12.8 MB 6.8 MB/s eta 0:00:01\n",
      "     ---------------------- ----------------- 7.3/12.8 MB 6.8 MB/s eta 0:00:01\n",
      "     ---------------------- ----------------- 7.3/12.8 MB 6.8 MB/s eta 0:00:01\n",
      "     ------------------------ --------------- 7.9/12.8 MB 6.1 MB/s eta 0:00:01\n",
      "     ---------------------------- ----------- 9.3/12.8 MB 7.0 MB/s eta 0:00:01\n",
      "     ---------------------------- ----------- 9.3/12.8 MB 7.0 MB/s eta 0:00:01\n",
      "     ----------------------------- ---------- 9.3/12.8 MB 6.6 MB/s eta 0:00:01\n",
      "     ------------------------------ --------- 9.6/12.8 MB 6.7 MB/s eta 0:00:01\n",
      "     ------------------------------- -------- 10.0/12.8 MB 6.7 MB/s eta 0:00:01\n",
      "     --------------------------------- ------ 10.6/12.8 MB 8.7 MB/s eta 0:00:01\n",
      "     ---------------------------------- ----- 11.2/12.8 MB 9.2 MB/s eta 0:00:01\n",
      "     ----------------------------------- ---- 11.5/12.8 MB 9.2 MB/s eta 0:00:01\n",
      "     ----------------------------------- ---- 11.5/12.8 MB 9.2 MB/s eta 0:00:01\n",
      "     ------------------------------------ --- 11.6/12.8 MB 8.6 MB/s eta 0:00:01\n",
      "     ------------------------------------- -- 11.9/12.8 MB 8.5 MB/s eta 0:00:01\n",
      "     -------------------------------------- - 12.3/12.8 MB 8.5 MB/s eta 0:00:01\n",
      "     -------------------------------------- - 12.5/12.8 MB 8.2 MB/s eta 0:00:01\n",
      "     ---------------------------------------  12.7/12.8 MB 8.2 MB/s eta 0:00:01\n",
      "     ---------------------------------------  12.8/12.8 MB 8.1 MB/s eta 0:00:01\n",
      "     ---------------------------------------  12.8/12.8 MB 8.1 MB/s eta 0:00:01\n",
      "     ---------------------------------------  12.8/12.8 MB 8.1 MB/s eta 0:00:01\n",
      "     ---------------------------------------- 12.8/12.8 MB 7.2 MB/s eta 0:00:00\n",
      "Requirement already satisfied: spacy<3.8.0,>=3.7.2 in c:\\users\\lenovo\\anaconda3\\lib\\site-packages (from en-core-web-sm==3.7.1) (3.7.4)\n",
      "Requirement already satisfied: spacy-legacy<3.1.0,>=3.0.11 in c:\\users\\lenovo\\anaconda3\\lib\\site-packages (from spacy<3.8.0,>=3.7.2->en-core-web-sm==3.7.1) (3.0.12)\n",
      "Requirement already satisfied: spacy-loggers<2.0.0,>=1.0.0 in c:\\users\\lenovo\\anaconda3\\lib\\site-packages (from spacy<3.8.0,>=3.7.2->en-core-web-sm==3.7.1) (1.0.5)\n",
      "Requirement already satisfied: murmurhash<1.1.0,>=0.28.0 in c:\\users\\lenovo\\anaconda3\\lib\\site-packages (from spacy<3.8.0,>=3.7.2->en-core-web-sm==3.7.1) (1.0.10)\n",
      "Requirement already satisfied: cymem<2.1.0,>=2.0.2 in c:\\users\\lenovo\\anaconda3\\lib\\site-packages (from spacy<3.8.0,>=3.7.2->en-core-web-sm==3.7.1) (2.0.8)\n",
      "Requirement already satisfied: preshed<3.1.0,>=3.0.2 in c:\\users\\lenovo\\anaconda3\\lib\\site-packages (from spacy<3.8.0,>=3.7.2->en-core-web-sm==3.7.1) (3.0.9)\n",
      "Requirement already satisfied: thinc<8.3.0,>=8.2.2 in c:\\users\\lenovo\\anaconda3\\lib\\site-packages (from spacy<3.8.0,>=3.7.2->en-core-web-sm==3.7.1) (8.2.3)\n",
      "Requirement already satisfied: wasabi<1.2.0,>=0.9.1 in c:\\users\\lenovo\\anaconda3\\lib\\site-packages (from spacy<3.8.0,>=3.7.2->en-core-web-sm==3.7.1) (1.1.2)\n",
      "Requirement already satisfied: srsly<3.0.0,>=2.4.3 in c:\\users\\lenovo\\anaconda3\\lib\\site-packages (from spacy<3.8.0,>=3.7.2->en-core-web-sm==3.7.1) (2.4.8)\n",
      "Requirement already satisfied: catalogue<2.1.0,>=2.0.6 in c:\\users\\lenovo\\anaconda3\\lib\\site-packages (from spacy<3.8.0,>=3.7.2->en-core-web-sm==3.7.1) (2.0.10)\n",
      "Requirement already satisfied: weasel<0.4.0,>=0.1.0 in c:\\users\\lenovo\\anaconda3\\lib\\site-packages (from spacy<3.8.0,>=3.7.2->en-core-web-sm==3.7.1) (0.3.4)\n",
      "Requirement already satisfied: typer<0.10.0,>=0.3.0 in c:\\users\\lenovo\\anaconda3\\lib\\site-packages (from spacy<3.8.0,>=3.7.2->en-core-web-sm==3.7.1) (0.9.0)\n",
      "Requirement already satisfied: smart-open<7.0.0,>=5.2.1 in c:\\users\\lenovo\\anaconda3\\lib\\site-packages (from spacy<3.8.0,>=3.7.2->en-core-web-sm==3.7.1) (5.2.1)\n",
      "Requirement already satisfied: tqdm<5.0.0,>=4.38.0 in c:\\users\\lenovo\\anaconda3\\lib\\site-packages (from spacy<3.8.0,>=3.7.2->en-core-web-sm==3.7.1) (4.65.0)\n",
      "Requirement already satisfied: requests<3.0.0,>=2.13.0 in c:\\users\\lenovo\\anaconda3\\lib\\site-packages (from spacy<3.8.0,>=3.7.2->en-core-web-sm==3.7.1) (2.31.0)\n",
      "Requirement already satisfied: pydantic!=1.8,!=1.8.1,<3.0.0,>=1.7.4 in c:\\users\\lenovo\\anaconda3\\lib\\site-packages (from spacy<3.8.0,>=3.7.2->en-core-web-sm==3.7.1) (1.10.8)\n",
      "Requirement already satisfied: jinja2 in c:\\users\\lenovo\\anaconda3\\lib\\site-packages (from spacy<3.8.0,>=3.7.2->en-core-web-sm==3.7.1) (3.1.2)\n",
      "Requirement already satisfied: setuptools in c:\\users\\lenovo\\anaconda3\\lib\\site-packages (from spacy<3.8.0,>=3.7.2->en-core-web-sm==3.7.1) (68.0.0)\n",
      "Requirement already satisfied: packaging>=20.0 in c:\\users\\lenovo\\anaconda3\\lib\\site-packages (from spacy<3.8.0,>=3.7.2->en-core-web-sm==3.7.1) (23.1)\n",
      "Requirement already satisfied: langcodes<4.0.0,>=3.2.0 in c:\\users\\lenovo\\anaconda3\\lib\\site-packages (from spacy<3.8.0,>=3.7.2->en-core-web-sm==3.7.1) (3.3.0)\n",
      "Requirement already satisfied: numpy>=1.19.0 in c:\\users\\lenovo\\anaconda3\\lib\\site-packages (from spacy<3.8.0,>=3.7.2->en-core-web-sm==3.7.1) (1.24.3)\n",
      "Requirement already satisfied: typing-extensions>=4.2.0 in c:\\users\\lenovo\\anaconda3\\lib\\site-packages (from pydantic!=1.8,!=1.8.1,<3.0.0,>=1.7.4->spacy<3.8.0,>=3.7.2->en-core-web-sm==3.7.1) (4.7.1)\n",
      "Requirement already satisfied: charset-normalizer<4,>=2 in c:\\users\\lenovo\\anaconda3\\lib\\site-packages (from requests<3.0.0,>=2.13.0->spacy<3.8.0,>=3.7.2->en-core-web-sm==3.7.1) (2.0.4)\n",
      "Requirement already satisfied: idna<4,>=2.5 in c:\\users\\lenovo\\anaconda3\\lib\\site-packages (from requests<3.0.0,>=2.13.0->spacy<3.8.0,>=3.7.2->en-core-web-sm==3.7.1) (3.4)\n",
      "Requirement already satisfied: urllib3<3,>=1.21.1 in c:\\users\\lenovo\\anaconda3\\lib\\site-packages (from requests<3.0.0,>=2.13.0->spacy<3.8.0,>=3.7.2->en-core-web-sm==3.7.1) (1.26.16)\n",
      "Requirement already satisfied: certifi>=2017.4.17 in c:\\users\\lenovo\\anaconda3\\lib\\site-packages (from requests<3.0.0,>=2.13.0->spacy<3.8.0,>=3.7.2->en-core-web-sm==3.7.1) (2023.7.22)\n",
      "Requirement already satisfied: blis<0.8.0,>=0.7.8 in c:\\users\\lenovo\\anaconda3\\lib\\site-packages (from thinc<8.3.0,>=8.2.2->spacy<3.8.0,>=3.7.2->en-core-web-sm==3.7.1) (0.7.11)\n",
      "Requirement already satisfied: confection<1.0.0,>=0.0.1 in c:\\users\\lenovo\\anaconda3\\lib\\site-packages (from thinc<8.3.0,>=8.2.2->spacy<3.8.0,>=3.7.2->en-core-web-sm==3.7.1) (0.1.4)\n",
      "Requirement already satisfied: colorama in c:\\users\\lenovo\\anaconda3\\lib\\site-packages (from tqdm<5.0.0,>=4.38.0->spacy<3.8.0,>=3.7.2->en-core-web-sm==3.7.1) (0.4.6)\n",
      "Requirement already satisfied: click<9.0.0,>=7.1.1 in c:\\users\\lenovo\\anaconda3\\lib\\site-packages (from typer<0.10.0,>=0.3.0->spacy<3.8.0,>=3.7.2->en-core-web-sm==3.7.1) (8.0.4)\n",
      "Requirement already satisfied: cloudpathlib<0.17.0,>=0.7.0 in c:\\users\\lenovo\\anaconda3\\lib\\site-packages (from weasel<0.4.0,>=0.1.0->spacy<3.8.0,>=3.7.2->en-core-web-sm==3.7.1) (0.16.0)\n",
      "Requirement already satisfied: MarkupSafe>=2.0 in c:\\users\\lenovo\\anaconda3\\lib\\site-packages (from jinja2->spacy<3.8.0,>=3.7.2->en-core-web-sm==3.7.1) (2.1.1)\n",
      "\u001b[38;5;2m[+] Download and installation successful\u001b[0m\n",
      "You can now load the package via spacy.load('en_core_web_sm')\n"
     ]
    }
   ],
   "source": [
    "\n",
    "import spacy\n",
    "!python -m spacy download en_core_web_sm\n",
    "\n",
    "nlp = spacy.load(\"en_core_web_sm\")\n",
    "\n",
    "\n"
   ]
  },
  {
   "cell_type": "code",
   "execution_count": 22,
   "id": "47d37df0",
   "metadata": {},
   "outputs": [],
   "source": [
    "def lemmatize_words(text):\n",
    "    doc = nlp(text)\n",
    "    lemmatized_words = [token.lemma_ for token in doc]\n",
    "    return \" \".join(lemmatized_words)\n"
   ]
  },
  {
   "cell_type": "code",
   "execution_count": 23,
   "id": "f0c31562",
   "metadata": {},
   "outputs": [],
   "source": [
    "text_nettoyé = lemmatize_words(text_nettoyé)\n"
   ]
  },
  {
   "cell_type": "markdown",
   "id": "39230f58",
   "metadata": {},
   "source": [
    "## after Text Preprocessing"
   ]
  },
  {
   "cell_type": "code",
   "execution_count": 24,
   "id": "d9ff3a90",
   "metadata": {},
   "outputs": [
    {
     "data": {
      "text/plain": [
       "'morocco marrakech tapestri tradit modern morocco locat crossroad europ africa countri drench histori mysteri cultur rich testament ancient civil flourish north african kingdom boast uniqu blend arab berber european influenc heart morocco rich tapestri lie marrakech one four imperi citi vibrant epicent tradit modern geograph signific morocco border atlant ocean west mediterranean sea north algeria east southeast vast sahara desert south strateg locat histor make soughtaft territori melt pot cultur religion trade rout marrakech red citi marrakech often refer red citi due distinct redhu build stand backdrop snowcap atla mountain establish 11th centuri remain crucial polit econom cultur center morocco journey medina marrakech old town medina unesco world heritag site labyrinthin maze narrow alley bustl souk histor landmark djemaa elfna squar lie heart medina come aliv everi even storytel musician snake charmer food stall offer tantal moroccan delicaci palac garden citi also home grand palac like bahia palac showcas intric islam architectur saadian tomb remnant saadian dynasti majorel garden restor fashion design yve saint laurent tranquil oasi cacti palm tree cobalt blue accent modern marrakech tradit histori permeat marrakech citi aver modern world gueliz new town brim contemporari art galleri stylish cafe chic boutiqu offer stark contrast ancient medina moroccan cuisin journey morocco marrakech would complet without indulg local cuisin tagin couscou pastilla mani dish combin plethora flavor spice like saffron cumin mint pair moroccan mint tea culinari experi truli unparallel conclus morocco marrakech heart offer travel unparallel journey time converg histori cultur architectur gastronomi make enthral destin seek adventur reflect moroccan proverb goe travel know valu man case morocco marrakech valu man also valu time tradit tale span centuri'"
      ]
     },
     "execution_count": 24,
     "metadata": {},
     "output_type": "execute_result"
    }
   ],
   "source": [
    "text_nettoyé"
   ]
  },
  {
   "cell_type": "markdown",
   "id": "c9e12e7a",
   "metadata": {},
   "source": [
    "## entraîner le modèle word2vec sur le texte"
   ]
  },
  {
   "cell_type": "code",
   "execution_count": 25,
   "id": "2f221ff5",
   "metadata": {},
   "outputs": [],
   "source": [
    "from gensim.models import Word2Vec\n"
   ]
  },
  {
   "cell_type": "code",
   "execution_count": 26,
   "id": "9b8a2f25",
   "metadata": {},
   "outputs": [
    {
     "data": {
      "text/plain": [
       "[['morocco',\n",
       "  'marrakech',\n",
       "  'tapestri',\n",
       "  'tradit',\n",
       "  'modern',\n",
       "  'morocco',\n",
       "  'locat',\n",
       "  'crossroad',\n",
       "  'europ',\n",
       "  'africa',\n",
       "  'countri',\n",
       "  'drench',\n",
       "  'histori',\n",
       "  'mysteri',\n",
       "  'cultur',\n",
       "  'rich',\n",
       "  'testament',\n",
       "  'ancient',\n",
       "  'civil',\n",
       "  'flourish',\n",
       "  'north',\n",
       "  'african',\n",
       "  'kingdom',\n",
       "  'boast',\n",
       "  'uniqu',\n",
       "  'blend',\n",
       "  'arab',\n",
       "  'berber',\n",
       "  'european',\n",
       "  'influenc',\n",
       "  'heart',\n",
       "  'morocco',\n",
       "  'rich',\n",
       "  'tapestri',\n",
       "  'lie',\n",
       "  'marrakech',\n",
       "  'one',\n",
       "  'four',\n",
       "  'imperi',\n",
       "  'citi',\n",
       "  'vibrant',\n",
       "  'epicent',\n",
       "  'tradit',\n",
       "  'modern',\n",
       "  'geograph',\n",
       "  'signific',\n",
       "  'morocco',\n",
       "  'border',\n",
       "  'atlant',\n",
       "  'ocean',\n",
       "  'west',\n",
       "  'mediterranean',\n",
       "  'sea',\n",
       "  'north',\n",
       "  'algeria',\n",
       "  'east',\n",
       "  'southeast',\n",
       "  'vast',\n",
       "  'sahara',\n",
       "  'desert',\n",
       "  'south',\n",
       "  'strateg',\n",
       "  'locat',\n",
       "  'histor',\n",
       "  'make',\n",
       "  'soughtaft',\n",
       "  'territori',\n",
       "  'melt',\n",
       "  'pot',\n",
       "  'cultur',\n",
       "  'religion',\n",
       "  'trade',\n",
       "  'rout',\n",
       "  'marrakech',\n",
       "  'red',\n",
       "  'citi',\n",
       "  'marrakech',\n",
       "  'often',\n",
       "  'refer',\n",
       "  'red',\n",
       "  'citi',\n",
       "  'due',\n",
       "  'distinct',\n",
       "  'redhu',\n",
       "  'build',\n",
       "  'stand',\n",
       "  'backdrop',\n",
       "  'snowcap',\n",
       "  'atla',\n",
       "  'mountain',\n",
       "  'establish',\n",
       "  '11th',\n",
       "  'centuri',\n",
       "  'remain',\n",
       "  'crucial',\n",
       "  'polit',\n",
       "  'econom',\n",
       "  'cultur',\n",
       "  'center',\n",
       "  'morocco',\n",
       "  'journey',\n",
       "  'medina',\n",
       "  'marrakech',\n",
       "  'old',\n",
       "  'town',\n",
       "  'medina',\n",
       "  'unesco',\n",
       "  'world',\n",
       "  'heritag',\n",
       "  'site',\n",
       "  'labyrinthin',\n",
       "  'maze',\n",
       "  'narrow',\n",
       "  'alley',\n",
       "  'bustl',\n",
       "  'souk',\n",
       "  'histor',\n",
       "  'landmark',\n",
       "  'djemaa',\n",
       "  'elfna',\n",
       "  'squar',\n",
       "  'lie',\n",
       "  'heart',\n",
       "  'medina',\n",
       "  'come',\n",
       "  'aliv',\n",
       "  'everi',\n",
       "  'even',\n",
       "  'storytel',\n",
       "  'musician',\n",
       "  'snake',\n",
       "  'charmer',\n",
       "  'food',\n",
       "  'stall',\n",
       "  'offer',\n",
       "  'tantal',\n",
       "  'moroccan',\n",
       "  'delicaci',\n",
       "  'palac',\n",
       "  'garden',\n",
       "  'citi',\n",
       "  'also',\n",
       "  'home',\n",
       "  'grand',\n",
       "  'palac',\n",
       "  'like',\n",
       "  'bahia',\n",
       "  'palac',\n",
       "  'showcas',\n",
       "  'intric',\n",
       "  'islam',\n",
       "  'architectur',\n",
       "  'saadian',\n",
       "  'tomb',\n",
       "  'remnant',\n",
       "  'saadian',\n",
       "  'dynasti',\n",
       "  'majorel',\n",
       "  'garden',\n",
       "  'restor',\n",
       "  'fashion',\n",
       "  'design',\n",
       "  'yve',\n",
       "  'saint',\n",
       "  'laurent',\n",
       "  'tranquil',\n",
       "  'oasi',\n",
       "  'cacti',\n",
       "  'palm',\n",
       "  'tree',\n",
       "  'cobalt',\n",
       "  'blue',\n",
       "  'accent',\n",
       "  'modern',\n",
       "  'marrakech',\n",
       "  'tradit',\n",
       "  'histori',\n",
       "  'permeat',\n",
       "  'marrakech',\n",
       "  'citi',\n",
       "  'aver',\n",
       "  'modern',\n",
       "  'world',\n",
       "  'gueliz',\n",
       "  'new',\n",
       "  'town',\n",
       "  'brim',\n",
       "  'contemporari',\n",
       "  'art',\n",
       "  'galleri',\n",
       "  'stylish',\n",
       "  'cafe',\n",
       "  'chic',\n",
       "  'boutiqu',\n",
       "  'offer',\n",
       "  'stark',\n",
       "  'contrast',\n",
       "  'ancient',\n",
       "  'medina',\n",
       "  'moroccan',\n",
       "  'cuisin',\n",
       "  'journey',\n",
       "  'morocco',\n",
       "  'marrakech',\n",
       "  'would',\n",
       "  'complet',\n",
       "  'without',\n",
       "  'indulg',\n",
       "  'local',\n",
       "  'cuisin',\n",
       "  'tagin',\n",
       "  'couscou',\n",
       "  'pastilla',\n",
       "  'mani',\n",
       "  'dish',\n",
       "  'combin',\n",
       "  'plethora',\n",
       "  'flavor',\n",
       "  'spice',\n",
       "  'like',\n",
       "  'saffron',\n",
       "  'cumin',\n",
       "  'mint',\n",
       "  'pair',\n",
       "  'moroccan',\n",
       "  'mint',\n",
       "  'tea',\n",
       "  'culinari',\n",
       "  'experi',\n",
       "  'truli',\n",
       "  'unparallel',\n",
       "  'conclus',\n",
       "  'morocco',\n",
       "  'marrakech',\n",
       "  'heart',\n",
       "  'offer',\n",
       "  'travel',\n",
       "  'unparallel',\n",
       "  'journey',\n",
       "  'time',\n",
       "  'converg',\n",
       "  'histori',\n",
       "  'cultur',\n",
       "  'architectur',\n",
       "  'gastronomi',\n",
       "  'make',\n",
       "  'enthral',\n",
       "  'destin',\n",
       "  'seek',\n",
       "  'adventur',\n",
       "  'reflect',\n",
       "  'moroccan',\n",
       "  'proverb',\n",
       "  'goe',\n",
       "  'travel',\n",
       "  'know',\n",
       "  'valu',\n",
       "  'man',\n",
       "  'case',\n",
       "  'morocco',\n",
       "  'marrakech',\n",
       "  'valu',\n",
       "  'man',\n",
       "  'also',\n",
       "  'valu',\n",
       "  'time',\n",
       "  'tradit',\n",
       "  'tale',\n",
       "  'span',\n",
       "  'centuri']]"
      ]
     },
     "execution_count": 26,
     "metadata": {},
     "output_type": "execute_result"
    }
   ],
   "source": [
    "# notre texte prétraité\n",
    "preprocessed_text =[text_nettoyé]\n",
    "# Tokenize le texte prétraité\n",
    "tokens = [sentence.split() for sentence in preprocessed_text]\n",
    "tokens"
   ]
  },
  {
   "cell_type": "code",
   "execution_count": 27,
   "id": "75b4247c",
   "metadata": {},
   "outputs": [],
   "source": [
    "model = Word2Vec(tokens, min_count=1, window=5)\n"
   ]
  },
  {
   "cell_type": "markdown",
   "id": "92dab392",
   "metadata": {},
   "source": [
    "#### question 1"
   ]
  },
  {
   "cell_type": "code",
   "execution_count": 28,
   "id": "920620be",
   "metadata": {},
   "outputs": [
    {
     "name": "stdout",
     "output_type": "stream",
     "text": [
      "Représentation vectorielle de 'morocco': \n",
      " [-8.6333444e-03  3.6826942e-03  5.2006105e-03  5.7534552e-03\n",
      "  7.4752048e-03 -6.2365630e-03  1.1175403e-03  6.1292686e-03\n",
      " -2.8545356e-03 -6.1877957e-03 -4.1457990e-04 -8.4325811e-03\n",
      " -5.6114108e-03  7.1458267e-03  3.3391276e-03  7.2316355e-03\n",
      "  6.7997817e-03  7.4843410e-03 -3.8207218e-03 -6.3890975e-04\n",
      "  2.3316382e-03 -4.5185378e-03  8.4018698e-03 -9.8875742e-03\n",
      "  6.7425105e-03  2.9271226e-03 -4.9321675e-03  4.3827300e-03\n",
      " -1.7721495e-03  6.7178253e-03  9.9755768e-03 -4.3610604e-03\n",
      " -5.4817187e-04 -5.7032402e-03  3.8299377e-03  2.8479185e-03\n",
      "  6.9189966e-03  6.0744123e-03  9.5273936e-03  9.2221992e-03\n",
      "  7.8754714e-03 -7.0615639e-03 -9.1903750e-03 -3.6655625e-04\n",
      " -3.0622464e-03  7.8719836e-03  5.9276647e-03 -1.5690869e-03\n",
      "  1.5417188e-03  1.8251807e-03  7.8276349e-03 -9.5335264e-03\n",
      " -1.6942284e-04  3.4624189e-03 -9.1766327e-04  8.3999168e-03\n",
      "  9.0271374e-03  6.5124766e-03 -7.3698047e-04  7.7566472e-03\n",
      " -8.5463030e-03  3.2090212e-03 -4.6343957e-03 -5.1274686e-03\n",
      "  3.5410426e-03  5.3826193e-03  7.8028645e-03 -5.7111443e-03\n",
      "  7.3994636e-03  6.6874032e-03 -3.7369095e-03 -8.7636784e-03\n",
      "  5.4617636e-03  6.4979214e-03 -7.6085841e-04 -6.6782739e-03\n",
      " -7.0697302e-03 -2.5401367e-03  5.1129954e-03 -3.6608984e-03\n",
      " -9.3821874e-03  3.8707654e-03  4.8327171e-03 -6.3734786e-03\n",
      "  1.1785052e-03 -2.0665501e-03  2.1846152e-05 -9.8686665e-03\n",
      "  2.7265293e-03 -4.7762161e-03  1.1595143e-03 -1.5581119e-03\n",
      "  2.1976614e-03 -7.8540063e-03 -2.6295988e-03  2.6919791e-03\n",
      "  5.3613288e-03 -2.4448987e-03 -9.5070796e-03  4.4732280e-03]\n"
     ]
    }
   ],
   "source": [
    "#1- Extraire la représentation vectorielle d&#39;un mot\n",
    "word_vector = model.wv['morocco']\n",
    "print(\"Représentation vectorielle de 'morocco': \\n\", word_vector)"
   ]
  },
  {
   "cell_type": "markdown",
   "id": "a751f361",
   "metadata": {},
   "source": [
    "#### question 2"
   ]
  },
  {
   "cell_type": "code",
   "execution_count": 29,
   "id": "55b2a2d5",
   "metadata": {},
   "outputs": [
    {
     "name": "stdout",
     "output_type": "stream",
     "text": [
      "Similarité entre 'morocco' et 'marrakech':  -0.0072038155\n"
     ]
    }
   ],
   "source": [
    "# 2. Calculer la similarité entre deux mots\n",
    "similarity = model.wv.similarity('morocco', 'marrakech')\n",
    "print(\"Similarité entre 'morocco' et 'marrakech': \", similarity)"
   ]
  },
  {
   "cell_type": "code",
   "execution_count": 35,
   "id": "21caee1b",
   "metadata": {},
   "outputs": [
    {
     "name": "stdout",
     "output_type": "stream",
     "text": [
      "Similarité entre 'morocco' et 'marrakech':  -0.048494823\n"
     ]
    }
   ],
   "source": [
    "#Calculer la similarité entre deux mots\n",
    "similarity = model.wv.similarity('cuisin', 'marrakech')\n",
    "print(\"Similarité entre 'cuisin' et 'marrakech': \", similarity)"
   ]
  },
  {
   "cell_type": "markdown",
   "id": "f30ca19e",
   "metadata": {},
   "source": [
    "#### question 3"
   ]
  },
  {
   "cell_type": "code",
   "execution_count": 31,
   "id": "f6f3512d",
   "metadata": {},
   "outputs": [
    {
     "name": "stdout",
     "output_type": "stream",
     "text": [
      "Mots contextuels pour 'marrakech':  [('uniqu', 0.292203426361084), ('permeat', 0.27848777174949646), ('maze', 0.2343234270811081), ('lie', 0.22422970831394196), ('enthral', 0.22263091802597046)]\n"
     ]
    }
   ],
   "source": [
    "# 3. Extraire les mots contextuels pour un mot central donné\n",
    "context_words = model.wv.similar_by_word('marrakech', topn=5)\n",
    "print(\"Mots contextuels pour 'marrakech': \", context_words)"
   ]
  },
  {
   "cell_type": "code",
   "execution_count": 34,
   "id": "19d9c59b",
   "metadata": {},
   "outputs": [
    {
     "name": "stdout",
     "output_type": "stream",
     "text": [
      "Mots contextuels pour 'morocco':  [('experi', 0.21625766158103943), ('mint', 0.18959291279315948), ('cuisin', 0.188522070646286), ('mountain', 0.18417641520500183), ('border', 0.18394117057323456)]\n"
     ]
    }
   ],
   "source": [
    "#Extraire les mots contextuels pour un mot central donné\n",
    "context_words = model.wv.similar_by_word('morocco', topn=5)\n",
    "print(\"Mots contextuels pour 'morocco': \", context_words)"
   ]
  }
 ],
 "metadata": {
  "kernelspec": {
   "display_name": "Python 3 (ipykernel)",
   "language": "python",
   "name": "python3"
  },
  "language_info": {
   "codemirror_mode": {
    "name": "ipython",
    "version": 3
   },
   "file_extension": ".py",
   "mimetype": "text/x-python",
   "name": "python",
   "nbconvert_exporter": "python",
   "pygments_lexer": "ipython3",
   "version": "3.11.5"
  }
 },
 "nbformat": 4,
 "nbformat_minor": 5
}
